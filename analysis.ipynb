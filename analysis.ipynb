{
 "cells": [
  {
   "cell_type": "code",
   "execution_count": 18,
   "id": "f82b85d2-43af-4bfc-a0dc-a0f5278c54ca",
   "metadata": {},
   "outputs": [],
   "source": [
    "import pandas as pd\n",
    "import numpy as np\n",
    "from utils import data\n",
    "import openai\n",
    "import os\n",
    "from absl import app, flags, logging\n",
    "import time\n",
    "language = 'itl'\n",
    "openai.api_key = os.getenv(\"OPENAI_API_KEY\")\n",
    "\n",
    "train_path = f\"data/{language}/{language}.train\"\n",
    "dev_path = f\"data/{language}/{language}.dev\"\n",
    "test_path = f\"data/{language}/{language}.test\""
   ]
  },
  {
   "cell_type": "code",
   "execution_count": 11,
   "id": "9795644b-7eb3-4f5b-a0cf-7bd4a2ab6f3d",
   "metadata": {},
   "outputs": [],
   "source": [
    "data=pd.read_csv(train_path, sep='\\t', header=None, \n",
    "                 names=[\"input\", \"output\", \"tags\"])\n",
    "data.loc[data['tags'] == 'N']\n",
    "\n",
    "\n",
    "tags_dictionary_train = {k: list(map(tuple, g[['input','output']].values)) for k, g in data.groupby('tags')}"
   ]
  },
  {
   "cell_type": "code",
   "execution_count": 12,
   "id": "d4047602-acb0-4142-8f3b-b922eefdae98",
   "metadata": {},
   "outputs": [],
   "source": [
    "with open(\"prompts/inflection_train_base.txt\") as handle:\n",
    "    base_text = handle.read()\n",
    "with open(\"prompts/inflection_test_base.txt\") as handle:\n",
    "    test_text = handle.read()"
   ]
  },
  {
   "cell_type": "code",
   "execution_count": 13,
   "id": "ff492d93-0538-4c3d-8d10-82a348553af8",
   "metadata": {},
   "outputs": [],
   "source": [
    "test_data=pd.read_csv(test_path, sep='\\t', header=None, \n",
    "                 names=[\"input\", \"output\", \"tags\"])\n",
    "tags_dictionary_test = {k: list(map(tuple, g[['input','output']].values)) for k, g in test_data.groupby('tags')}"
   ]
  },
  {
   "cell_type": "code",
   "execution_count": 14,
   "id": "49f5df0e-038c-497f-8172-301c4d185ed1",
   "metadata": {},
   "outputs": [
    {
     "data": {
      "text/plain": [
       "300"
      ]
     },
     "execution_count": 14,
     "metadata": {},
     "output_type": "execute_result"
    }
   ],
   "source": [
    "all_tags = []\n",
    "for i in tags_dictionary_train:\n",
    "    all_tags.append(i)\n",
    "for i in tags_dictionary_test:\n",
    "    all_tags.append(i)\n",
    "all_tags = list(set(all_tags))\n",
    "len(all_tags)"
   ]
  },
  {
   "cell_type": "code",
   "execution_count": 15,
   "id": "b045ea89-f3ef-4963-92fe-5723645689ed",
   "metadata": {},
   "outputs": [
    {
     "data": {
      "text/plain": [
       "[('kɬәŋqsxi', 'kɬәŋqsxiˀin'), ('kčixlqɬ', 'kčixlqɬˀin')]"
      ]
     },
     "execution_count": 15,
     "metadata": {},
     "output_type": "execute_result"
    }
   ],
   "source": [
    "tags_dictionary_train[\"ADJ;FOC;SG\"]"
   ]
  },
  {
   "cell_type": "code",
   "execution_count": 16,
   "id": "a76da5d1-227d-4115-922a-2e7888b69dc2",
   "metadata": {},
   "outputs": [],
   "source": [
    "import random\n",
    "def get_prompt(tag, train, test):\n",
    "    prompt = []\n",
    "    try:\n",
    "        train_list = train[tag]    \n",
    "    except Exception:\n",
    "        return 'cant index'\n",
    "    \n",
    "    if len(train_list) >= 10:\n",
    "        train_list = random.sample(train_list, 10)\n",
    "        \n",
    "    for index, row in enumerate(train_list):\n",
    "        prompt.append(base_text.format(language=language, inp=row[0],\n",
    "                              tags=tag,\n",
    "                              output=row[1]))\n",
    "        \n",
    "    prompt.append(test_text.format(language=language, inp=test[0], tags=tag))\n",
    "    \n",
    "    return \"\\n\".join(prompt)"
   ]
  },
  {
   "cell_type": "code",
   "execution_count": 17,
   "id": "17234c5e-84f6-4409-bb70-f0fc9cf5216f",
   "metadata": {},
   "outputs": [
    {
     "name": "stdout",
     "output_type": "stream",
     "text": [
      "cant index\n",
      "cant index\n",
      "Q: Inflect the itl word 'čʼačʼ' with the morphological tags of ADJ;PL\n",
      "A: čʼačʼalaχaˀn\n",
      "Q: Inflect the itl word 'čʼevezlaχ' with the morphological tags of ADJ;PL\n",
      "A: čʼevezlaχaˀn\n",
      "Q: Inflect the itl word 'iˀɬuq' with the morphological tags of ADJ;PL\n",
      "A: iˀɬuqeˀn\n",
      "Q: Inflect the itl word 'kɬčl' with the morphological tags of ADJ;PL\n",
      "A: kɬčleˀn\n",
      "Q: Inflect the itl word 'ekʼni' with the morphological tags of ADJ;PL\n",
      "A: ekʼniˀn\n",
      "Q: Inflect the itl word 'ktve' with the morphological tags of ADJ;PL\n",
      "A: ktvelaχeˀn\n",
      "Q: Inflect the itl word 'kstʼaŋa' with the morphological tags of ADJ;PL\n",
      "A:\n",
      "kstʼaŋaˀn\n",
      "This is the current output:  kstʼaŋalaχaˀn\n",
      "This is the gold: kstʼaŋaˀn\n",
      "\n",
      "\n"
     ]
    },
    {
     "ename": "KeyboardInterrupt",
     "evalue": "",
     "output_type": "error",
     "traceback": [
      "\u001b[0;31m---------------------------------------------------------------------------\u001b[0m",
      "\u001b[0;31mKeyboardInterrupt\u001b[0m                         Traceback (most recent call last)",
      "Input \u001b[0;32mIn [17]\u001b[0m, in \u001b[0;36m<cell line: 1>\u001b[0;34m()\u001b[0m\n\u001b[1;32m     22\u001b[0m     \u001b[38;5;28mprint\u001b[39m(\u001b[38;5;124mf\u001b[39m\u001b[38;5;124m\"\u001b[39m\u001b[38;5;124mThis is the current output: \u001b[39m\u001b[38;5;132;01m{\u001b[39;00mcurrent_outputs\u001b[38;5;132;01m}\u001b[39;00m\u001b[38;5;130;01m\\n\u001b[39;00m\u001b[38;5;124mThis is the gold: \u001b[39m\u001b[38;5;132;01m{\u001b[39;00mgold\u001b[38;5;132;01m}\u001b[39;00m\u001b[38;5;124m\"\u001b[39m)\n\u001b[1;32m     23\u001b[0m     \u001b[38;5;28mprint\u001b[39m(\u001b[38;5;124m'\u001b[39m\u001b[38;5;130;01m\\n\u001b[39;00m\u001b[38;5;124m'\u001b[39m)\n\u001b[0;32m---> 24\u001b[0m     \u001b[43mtime\u001b[49m\u001b[38;5;241;43m.\u001b[39;49m\u001b[43msleep\u001b[49m\u001b[43m(\u001b[49m\u001b[38;5;241;43m5\u001b[39;49m\u001b[43m)\u001b[49m\n\u001b[1;32m     26\u001b[0m \u001b[38;5;28;01mif\u001b[39;00m index \u001b[38;5;241m==\u001b[39m \u001b[38;5;241m5\u001b[39m:\n\u001b[1;32m     27\u001b[0m     \u001b[38;5;28;01mbreak\u001b[39;00m\n",
      "\u001b[0;31mKeyboardInterrupt\u001b[0m: "
     ]
    }
   ],
   "source": [
    "for index, tag in enumerate(tags_dictionary_test):\n",
    "    for i in range(len(tags_dictionary_test[tag])):\n",
    "        prompt = get_prompt(tag, tags_dictionary_train, tags_dictionary_test[tag][i])\n",
    "        print(prompt)\n",
    "        if prompt == \"cant index\":\n",
    "            continue\n",
    "\n",
    "       \n",
    "        response = openai.Completion.create(\n",
    "                            engine=\"text-davinci-002\",\n",
    "                            prompt=prompt,\n",
    "                            temperature=0.7,\n",
    "                            max_tokens=100,\n",
    "                            top_p=1,\n",
    "                            frequency_penalty=0,\n",
    "                            presence_penalty=0,\n",
    "                            stop=[\"Q\"]\n",
    "                        )\n",
    "        gold = tags_dictionary_test[tag][i][1]\n",
    "        print(gold)\n",
    "        current_outputs = response[\"choices\"][0][\"text\"]\n",
    "        print(f\"This is the current output: {current_outputs}\\nThis is the gold: {gold}\")\n",
    "        print('\\n')\n",
    "        time.sleep(5)\n",
    "    \n",
    "    if index == 5:\n",
    "        break\n",
    "    "
   ]
  },
  {
   "cell_type": "code",
   "execution_count": null,
   "id": "8672e8fb-8b04-4528-91e1-5cd1163e267b",
   "metadata": {},
   "outputs": [],
   "source": []
  },
  {
   "cell_type": "code",
   "execution_count": null,
   "id": "f471442d-a41d-41fe-90e2-bc136199a5a0",
   "metadata": {},
   "outputs": [],
   "source": []
  }
 ],
 "metadata": {
  "kernelspec": {
   "display_name": "Python 3 (ipykernel)",
   "language": "python",
   "name": "python3"
  },
  "language_info": {
   "codemirror_mode": {
    "name": "ipython",
    "version": 3
   },
   "file_extension": ".py",
   "mimetype": "text/x-python",
   "name": "python",
   "nbconvert_exporter": "python",
   "pygments_lexer": "ipython3",
   "version": "3.9.4"
  }
 },
 "nbformat": 4,
 "nbformat_minor": 5
}
